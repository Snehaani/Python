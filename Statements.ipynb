{
 "cells": [
  {
   "cell_type": "code",
   "execution_count": 1,
   "id": "b5b25459",
   "metadata": {},
   "outputs": [
    {
     "name": "stdout",
     "output_type": "stream",
     "text": [
      "Have a good day\n"
     ]
    }
   ],
   "source": [
    "#one line print statements\n",
    "\n",
    "print(\"Have a good day\")"
   ]
  },
  {
   "cell_type": "code",
   "execution_count": 7,
   "id": "1861e89e",
   "metadata": {},
   "outputs": [
    {
     "name": "stdout",
     "output_type": "stream",
     "text": [
      "Hello\n",
      "\n",
      "How are you?\n"
     ]
    }
   ],
   "source": [
    "#multiple lines in single print Statements\n",
    "\n",
    "print(\"\"\"Hello\n",
    "\n",
    "How are you?\"\"\")"
   ]
  },
  {
   "cell_type": "code",
   "execution_count": 11,
   "id": "66044e1f",
   "metadata": {},
   "outputs": [
    {
     "name": "stdout",
     "output_type": "stream",
     "text": [
      "Hello,\n",
      "How are you?\n"
     ]
    }
   ],
   "source": [
    "#multiple lines in single print Statements\n",
    "\n",
    "print(\"Hello,\\nHow are you?\")"
   ]
  },
  {
   "cell_type": "code",
   "execution_count": 12,
   "id": "7eb175be",
   "metadata": {},
   "outputs": [
    {
     "ename": "SyntaxError",
     "evalue": "invalid syntax. Perhaps you forgot a comma? (531629096.py, line 3)",
     "output_type": "error",
     "traceback": [
      "\u001b[1;36m  Cell \u001b[1;32mIn[12], line 3\u001b[1;36m\u001b[0m\n\u001b[1;33m    print('it's raining in bangalore')\u001b[0m\n\u001b[1;37m          ^\u001b[0m\n\u001b[1;31mSyntaxError\u001b[0m\u001b[1;31m:\u001b[0m invalid syntax. Perhaps you forgot a comma?\n"
     ]
    }
   ],
   "source": [
    "#Problem with single quotation\n",
    "\n",
    "print('It's raining in bangalore')"
   ]
  },
  {
   "cell_type": "code",
   "execution_count": 14,
   "id": "d5a2d74f",
   "metadata": {},
   "outputs": [
    {
     "name": "stdout",
     "output_type": "stream",
     "text": [
      "It's raining in bangalore\n"
     ]
    }
   ],
   "source": [
    "# by adding one black slash in the place of error showing in sentence we can clear the error.\n",
    "\n",
    "print('It\\'s raining in bangalore')"
   ]
  },
  {
   "cell_type": "markdown",
   "id": "c559a8ed",
   "metadata": {},
   "source": [
    "# comments"
   ]
  },
  {
   "cell_type": "code",
   "execution_count": 23,
   "id": "71b778ba",
   "metadata": {},
   "outputs": [],
   "source": [
    "#single line comments\n"
   ]
  },
  {
   "cell_type": "markdown",
   "id": "20b3104a",
   "metadata": {},
   "source": [
    "\"\"\"Multiple line comments\"\"\""
   ]
  },
  {
   "cell_type": "code",
   "execution_count": 26,
   "id": "34c97733",
   "metadata": {},
   "outputs": [],
   "source": [
    "# We can use 3 single or double quotes for writing the multiple line comments as we have markdown cells in jupyter notebook.\n",
    "\n",
    "#It doesn't work here."
   ]
  },
  {
   "cell_type": "code",
   "execution_count": null,
   "id": "92440340",
   "metadata": {},
   "outputs": [],
   "source": []
  },
  {
   "cell_type": "code",
   "execution_count": null,
   "id": "e70ea45a",
   "metadata": {},
   "outputs": [],
   "source": []
  },
  {
   "cell_type": "code",
   "execution_count": null,
   "id": "81a8e732",
   "metadata": {},
   "outputs": [],
   "source": []
  },
  {
   "cell_type": "code",
   "execution_count": null,
   "id": "87f9e9fd",
   "metadata": {},
   "outputs": [],
   "source": []
  },
  {
   "cell_type": "code",
   "execution_count": null,
   "id": "d5be748b",
   "metadata": {},
   "outputs": [],
   "source": []
  },
  {
   "cell_type": "code",
   "execution_count": null,
   "id": "2c85cc9e",
   "metadata": {},
   "outputs": [],
   "source": []
  },
  {
   "cell_type": "code",
   "execution_count": null,
   "id": "37ff9858",
   "metadata": {},
   "outputs": [],
   "source": []
  },
  {
   "cell_type": "code",
   "execution_count": null,
   "id": "abda17a3",
   "metadata": {},
   "outputs": [],
   "source": []
  },
  {
   "cell_type": "code",
   "execution_count": null,
   "id": "e8cd4f81",
   "metadata": {},
   "outputs": [],
   "source": []
  }
 ],
 "metadata": {
  "kernelspec": {
   "display_name": "Python 3 (ipykernel)",
   "language": "python",
   "name": "python3"
  },
  "language_info": {
   "codemirror_mode": {
    "name": "ipython",
    "version": 3
   },
   "file_extension": ".py",
   "mimetype": "text/x-python",
   "name": "python",
   "nbconvert_exporter": "python",
   "pygments_lexer": "ipython3",
   "version": "3.10.1"
  }
 },
 "nbformat": 4,
 "nbformat_minor": 5
}
